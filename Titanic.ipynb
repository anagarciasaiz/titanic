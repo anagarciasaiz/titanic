{
  "nbformat": 4,
  "nbformat_minor": 0,
  "metadata": {
    "colab": {
      "provenance": [],
      "authorship_tag": "ABX9TyNrfvilEZ9u3pASasEQ8VaG",
      "include_colab_link": true
    },
    "kernelspec": {
      "name": "python3",
      "display_name": "Python 3"
    },
    "language_info": {
      "name": "python"
    }
  },
  "cells": [
    {
      "cell_type": "markdown",
      "metadata": {
        "id": "view-in-github",
        "colab_type": "text"
      },
      "source": [
        "<a href=\"https://colab.research.google.com/github/anagarciasaiz/titanic/blob/main/Titanic.ipynb\" target=\"_parent\"><img src=\"https://colab.research.google.com/assets/colab-badge.svg\" alt=\"Open In Colab\"/></a>"
      ]
    },
    {
      "cell_type": "markdown",
      "source": [
        "##INICIALIZACIÓN\n"
      ],
      "metadata": {
        "id": "nlqUFk8bb_4R"
      }
    },
    {
      "cell_type": "markdown",
      "source": [
        "Entrenaremos los siguientes modelos:\n",
        "\n",
        "Random Forest\n",
        "\n",
        "Árbol de Decisión\n",
        "\n",
        "Naive Bayes\n",
        "\n",
        "Regresión Logística\n",
        "\n",
        "Gradient-boosted tree\n",
        "\n",
        "Support Vector Machine\n",
        "\n",
        "PerceptronClassifier\n"
      ],
      "metadata": {
        "id": "CZ0dRlWPQ0oe"
      }
    },
    {
      "cell_type": "code",
      "execution_count": 2,
      "metadata": {
        "colab": {
          "base_uri": "https://localhost:8080/",
          "height": 921
        },
        "id": "L29FDhxFPlKt",
        "outputId": "c2504028-542a-4544-adc0-72183997853a"
      },
      "outputs": [
        {
          "output_type": "stream",
          "name": "stdout",
          "text": [
            "\u001b[33m\r0% [Working]\u001b[0m\r            \rGet:1 https://cloud.r-project.org/bin/linux/ubuntu jammy-cran40/ InRelease [3,626 B]\n",
            "Get:2 https://developer.download.nvidia.com/compute/cuda/repos/ubuntu2204/x86_64  InRelease [1,581 B]\n",
            "Get:3 http://security.ubuntu.com/ubuntu jammy-security InRelease [110 kB]\n",
            "Hit:4 http://archive.ubuntu.com/ubuntu jammy InRelease\n",
            "Get:5 https://developer.download.nvidia.com/compute/cuda/repos/ubuntu2204/x86_64  Packages [814 kB]\n",
            "Get:6 http://archive.ubuntu.com/ubuntu jammy-updates InRelease [119 kB]\n",
            "Hit:7 https://ppa.launchpadcontent.net/c2d4u.team/c2d4u4.0+/ubuntu jammy InRelease\n",
            "Hit:8 https://ppa.launchpadcontent.net/deadsnakes/ppa/ubuntu jammy InRelease\n",
            "Hit:9 https://ppa.launchpadcontent.net/graphics-drivers/ppa/ubuntu jammy InRelease\n",
            "Hit:10 https://ppa.launchpadcontent.net/ubuntugis/ppa/ubuntu jammy InRelease\n",
            "Get:11 http://archive.ubuntu.com/ubuntu jammy-backports InRelease [109 kB]\n",
            "Get:12 http://security.ubuntu.com/ubuntu jammy-security/universe amd64 Packages [1,077 kB]\n",
            "Get:13 http://archive.ubuntu.com/ubuntu jammy-updates/universe amd64 Packages [1,369 kB]\n",
            "Get:14 http://security.ubuntu.com/ubuntu jammy-security/restricted amd64 Packages [2,259 kB]\n",
            "Get:15 http://security.ubuntu.com/ubuntu jammy-security/main amd64 Packages [1,753 kB]\n",
            "Get:16 http://archive.ubuntu.com/ubuntu jammy-updates/main amd64 Packages [2,035 kB]\n",
            "Get:17 http://archive.ubuntu.com/ubuntu jammy-updates/restricted amd64 Packages [2,339 kB]\n",
            "Get:18 http://archive.ubuntu.com/ubuntu jammy-backports/universe amd64 Packages [31.9 kB]\n",
            "Fetched 12.0 MB in 3s (3,605 kB/s)\n",
            "Reading package lists... Done\n",
            "Building dependency tree... Done\n",
            "Reading state information... Done\n",
            "45 packages can be upgraded. Run 'apt list --upgradable' to see them.\n",
            "tar: spark-3.2.1-bin-hadoop3.2.tgz: Cannot open: No such file or directory\n",
            "tar: Error is not recoverable: exiting now\n",
            "Collecting pyspark\n",
            "  Downloading pyspark-3.5.1.tar.gz (317.0 MB)\n",
            "\u001b[2K     \u001b[90m━━━━━━━━━━━━━━━━━━━━━━━━━━━━━━━━━━━━━━━━\u001b[0m \u001b[32m317.0/317.0 MB\u001b[0m \u001b[31m3.7 MB/s\u001b[0m eta \u001b[36m0:00:00\u001b[0m\n",
            "\u001b[?25h  Preparing metadata (setup.py) ... \u001b[?25l\u001b[?25hdone\n",
            "Requirement already satisfied: py4j==0.10.9.7 in /usr/local/lib/python3.10/dist-packages (from pyspark) (0.10.9.7)\n",
            "Building wheels for collected packages: pyspark\n",
            "  Building wheel for pyspark (setup.py) ... \u001b[?25l\u001b[?25hdone\n",
            "  Created wheel for pyspark: filename=pyspark-3.5.1-py2.py3-none-any.whl size=317488491 sha256=d26d2331f857ff3f05a4b5fc67abe3a6234bc3d649d22a7ad5a0f2166d4ff9fb\n",
            "  Stored in directory: /root/.cache/pip/wheels/80/1d/60/2c256ed38dddce2fdd93be545214a63e02fbd8d74fb0b7f3a6\n",
            "Successfully built pyspark\n",
            "Installing collected packages: pyspark\n",
            "Successfully installed pyspark-3.5.1\n",
            "Requirement already satisfied: py4j in /usr/local/lib/python3.10/dist-packages (0.10.9.7)\n"
          ]
        },
        {
          "output_type": "execute_result",
          "data": {
            "text/plain": [
              "<pyspark.sql.session.SparkSession at 0x7be4f82a71f0>"
            ],
            "text/html": [
              "\n",
              "            <div>\n",
              "                <p><b>SparkSession - in-memory</b></p>\n",
              "                \n",
              "        <div>\n",
              "            <p><b>SparkContext</b></p>\n",
              "\n",
              "            <p><a href=\"http://bf6c1817a609:4040\">Spark UI</a></p>\n",
              "\n",
              "            <dl>\n",
              "              <dt>Version</dt>\n",
              "                <dd><code>v3.5.1</code></dd>\n",
              "              <dt>Master</dt>\n",
              "                <dd><code>local[*]</code></dd>\n",
              "              <dt>AppName</dt>\n",
              "                <dd><code>Our First Spark Example</code></dd>\n",
              "            </dl>\n",
              "        </div>\n",
              "        \n",
              "            </div>\n",
              "        "
            ]
          },
          "metadata": {},
          "execution_count": 2
        }
      ],
      "source": [
        "!sudo apt update\n",
        "!apt-get install openjdk-8-jdk-headless -qq > /dev/null\n",
        "#Check this site for the latest download link https://www.apache.org/dyn/closer.lua/spark/spark-3.2.1/spark-3.2.1-bin-hadoop3.2.tgz\n",
        "!wget -q https://dlcdn.apache.org/spark/spark-3.2.1/spark-3.2.1-bin-hadoop3.2.tgz\n",
        "!tar xf spark-3.2.1-bin-hadoop3.2.tgz\n",
        "!pip install -q findspark\n",
        "!pip install pyspark\n",
        "!pip install py4j\n",
        "\n",
        "import os\n",
        "import sys\n",
        "# os.environ[\"JAVA_HOME\"] = \"/usr/lib/jvm/java-8-openjdk-amd64\"\n",
        "# os.environ[\"SPARK_HOME\"] = \"/content/spark-3.2.1-bin-hadoop3.2\"\n",
        "\n",
        "\n",
        "import findspark\n",
        "findspark.init()\n",
        "findspark.find()\n",
        "\n",
        "import pyspark\n",
        "\n",
        "from pyspark.sql import DataFrame, SparkSession\n",
        "from typing import List\n",
        "import pyspark.sql.types as T\n",
        "import pyspark.sql.functions as F\n",
        "\n",
        "spark= SparkSession \\\n",
        "       .builder \\\n",
        "       .appName(\"Our First Spark Example\") \\\n",
        "       .getOrCreate()\n",
        "\n",
        "spark"
      ]
    },
    {
      "cell_type": "code",
      "source": [
        "spark=SparkSession.builder.appName('clasificacion_titanic').getOrCreate()"
      ],
      "metadata": {
        "id": "PfjFlLCsP4iL"
      },
      "execution_count": 4,
      "outputs": []
    },
    {
      "cell_type": "code",
      "source": [
        "from google.colab import drive\n",
        "drive.mount('/content/drive')"
      ],
      "metadata": {
        "colab": {
          "base_uri": "https://localhost:8080/"
        },
        "id": "yGP1Nx-MP2Fa",
        "outputId": "ceb07172-9eb5-45a2-e8c0-551deb7a31ce"
      },
      "execution_count": 5,
      "outputs": [
        {
          "output_type": "stream",
          "name": "stdout",
          "text": [
            "Mounted at /content/drive\n"
          ]
        }
      ]
    },
    {
      "cell_type": "code",
      "source": [
        "data = spark.read.csv(\"/content/drive/MyDrive/Colab Notebooks/pyspark/titanic.csv\" ,header=True, inferSchema=True)\n",
        "data.show()"
      ],
      "metadata": {
        "colab": {
          "base_uri": "https://localhost:8080/"
        },
        "id": "2yZQ0sm1P_DE",
        "outputId": "ad3bc7c9-d526-459d-958b-5b677d5ddb41"
      },
      "execution_count": 6,
      "outputs": [
        {
          "output_type": "stream",
          "name": "stdout",
          "text": [
            "+-----------+--------+------+--------------------+------+----+-----+-----+----------------+-------+-----+--------+\n",
            "|PassengerId|Survived|Pclass|                Name|   Sex| Age|SibSp|Parch|          Ticket|   Fare|Cabin|Embarked|\n",
            "+-----------+--------+------+--------------------+------+----+-----+-----+----------------+-------+-----+--------+\n",
            "|          1|       0|     3|Braund, Mr. Owen ...|  male|22.0|    1|    0|       A/5 21171|   7.25| NULL|       S|\n",
            "|          2|       1|     1|Cumings, Mrs. Joh...|female|38.0|    1|    0|        PC 17599|71.2833|  C85|       C|\n",
            "|          3|       1|     3|Heikkinen, Miss. ...|female|26.0|    0|    0|STON/O2. 3101282|  7.925| NULL|       S|\n",
            "|          4|       1|     1|Futrelle, Mrs. Ja...|female|35.0|    1|    0|          113803|   53.1| C123|       S|\n",
            "|          5|       0|     3|Allen, Mr. Willia...|  male|35.0|    0|    0|          373450|   8.05| NULL|       S|\n",
            "|          6|       0|     3|    Moran, Mr. James|  male|NULL|    0|    0|          330877| 8.4583| NULL|       Q|\n",
            "|          7|       0|     1|McCarthy, Mr. Tim...|  male|54.0|    0|    0|           17463|51.8625|  E46|       S|\n",
            "|          8|       0|     3|Palsson, Master. ...|  male| 2.0|    3|    1|          349909| 21.075| NULL|       S|\n",
            "|          9|       1|     3|Johnson, Mrs. Osc...|female|27.0|    0|    2|          347742|11.1333| NULL|       S|\n",
            "|         10|       1|     2|Nasser, Mrs. Nich...|female|14.0|    1|    0|          237736|30.0708| NULL|       C|\n",
            "|         11|       1|     3|Sandstrom, Miss. ...|female| 4.0|    1|    1|         PP 9549|   16.7|   G6|       S|\n",
            "|         12|       1|     1|Bonnell, Miss. El...|female|58.0|    0|    0|          113783|  26.55| C103|       S|\n",
            "|         13|       0|     3|Saundercock, Mr. ...|  male|20.0|    0|    0|       A/5. 2151|   8.05| NULL|       S|\n",
            "|         14|       0|     3|Andersson, Mr. An...|  male|39.0|    1|    5|          347082| 31.275| NULL|       S|\n",
            "|         15|       0|     3|Vestrom, Miss. Hu...|female|14.0|    0|    0|          350406| 7.8542| NULL|       S|\n",
            "|         16|       1|     2|Hewlett, Mrs. (Ma...|female|55.0|    0|    0|          248706|   16.0| NULL|       S|\n",
            "|         17|       0|     3|Rice, Master. Eugene|  male| 2.0|    4|    1|          382652| 29.125| NULL|       Q|\n",
            "|         18|       1|     2|Williams, Mr. Cha...|  male|NULL|    0|    0|          244373|   13.0| NULL|       S|\n",
            "|         19|       0|     3|Vander Planke, Mr...|female|31.0|    1|    0|          345763|   18.0| NULL|       S|\n",
            "|         20|       1|     3|Masselmani, Mrs. ...|female|NULL|    0|    0|            2649|  7.225| NULL|       C|\n",
            "+-----------+--------+------+--------------------+------+----+-----+-----+----------------+-------+-----+--------+\n",
            "only showing top 20 rows\n",
            "\n"
          ]
        }
      ]
    },
    {
      "cell_type": "markdown",
      "source": [
        "##ANÁLISIS DE VARIABLES"
      ],
      "metadata": {
        "id": "qJuSWYdtc8dS"
      }
    },
    {
      "cell_type": "markdown",
      "source": [
        "##PREPROCESAMIENTO DE DATOS"
      ],
      "metadata": {
        "id": "Mv6Ybrh6dApm"
      }
    },
    {
      "cell_type": "code",
      "source": [
        "# Tratamiento de valores nulos\n",
        "# Reemplazar valores nulos en 'Age'  con el valor medio\n",
        "age_median = data.agg({'Age': 'median'}).first()[0]\n",
        "data = data.fillna({'Age': age_median})\n"
      ],
      "metadata": {
        "id": "Jgm2akucTTrJ"
      },
      "execution_count": 7,
      "outputs": []
    },
    {
      "cell_type": "code",
      "source": [
        "data.show()"
      ],
      "metadata": {
        "colab": {
          "base_uri": "https://localhost:8080/"
        },
        "id": "dGf9VLLhTbMV",
        "outputId": "656d5c3f-0877-4346-e733-4400e6554a78"
      },
      "execution_count": 8,
      "outputs": [
        {
          "output_type": "stream",
          "name": "stdout",
          "text": [
            "+-----------+--------+------+--------------------+------+----+-----+-----+----------------+-------+-----+--------+\n",
            "|PassengerId|Survived|Pclass|                Name|   Sex| Age|SibSp|Parch|          Ticket|   Fare|Cabin|Embarked|\n",
            "+-----------+--------+------+--------------------+------+----+-----+-----+----------------+-------+-----+--------+\n",
            "|          1|       0|     3|Braund, Mr. Owen ...|  male|22.0|    1|    0|       A/5 21171|   7.25| NULL|       S|\n",
            "|          2|       1|     1|Cumings, Mrs. Joh...|female|38.0|    1|    0|        PC 17599|71.2833|  C85|       C|\n",
            "|          3|       1|     3|Heikkinen, Miss. ...|female|26.0|    0|    0|STON/O2. 3101282|  7.925| NULL|       S|\n",
            "|          4|       1|     1|Futrelle, Mrs. Ja...|female|35.0|    1|    0|          113803|   53.1| C123|       S|\n",
            "|          5|       0|     3|Allen, Mr. Willia...|  male|35.0|    0|    0|          373450|   8.05| NULL|       S|\n",
            "|          6|       0|     3|    Moran, Mr. James|  male|28.0|    0|    0|          330877| 8.4583| NULL|       Q|\n",
            "|          7|       0|     1|McCarthy, Mr. Tim...|  male|54.0|    0|    0|           17463|51.8625|  E46|       S|\n",
            "|          8|       0|     3|Palsson, Master. ...|  male| 2.0|    3|    1|          349909| 21.075| NULL|       S|\n",
            "|          9|       1|     3|Johnson, Mrs. Osc...|female|27.0|    0|    2|          347742|11.1333| NULL|       S|\n",
            "|         10|       1|     2|Nasser, Mrs. Nich...|female|14.0|    1|    0|          237736|30.0708| NULL|       C|\n",
            "|         11|       1|     3|Sandstrom, Miss. ...|female| 4.0|    1|    1|         PP 9549|   16.7|   G6|       S|\n",
            "|         12|       1|     1|Bonnell, Miss. El...|female|58.0|    0|    0|          113783|  26.55| C103|       S|\n",
            "|         13|       0|     3|Saundercock, Mr. ...|  male|20.0|    0|    0|       A/5. 2151|   8.05| NULL|       S|\n",
            "|         14|       0|     3|Andersson, Mr. An...|  male|39.0|    1|    5|          347082| 31.275| NULL|       S|\n",
            "|         15|       0|     3|Vestrom, Miss. Hu...|female|14.0|    0|    0|          350406| 7.8542| NULL|       S|\n",
            "|         16|       1|     2|Hewlett, Mrs. (Ma...|female|55.0|    0|    0|          248706|   16.0| NULL|       S|\n",
            "|         17|       0|     3|Rice, Master. Eugene|  male| 2.0|    4|    1|          382652| 29.125| NULL|       Q|\n",
            "|         18|       1|     2|Williams, Mr. Cha...|  male|28.0|    0|    0|          244373|   13.0| NULL|       S|\n",
            "|         19|       0|     3|Vander Planke, Mr...|female|31.0|    1|    0|          345763|   18.0| NULL|       S|\n",
            "|         20|       1|     3|Masselmani, Mrs. ...|female|28.0|    0|    0|            2649|  7.225| NULL|       C|\n",
            "+-----------+--------+------+--------------------+------+----+-----+-----+----------------+-------+-----+--------+\n",
            "only showing top 20 rows\n",
            "\n"
          ]
        }
      ]
    },
    {
      "cell_type": "code",
      "source": [
        "from pyspark.ml.feature import StringIndexer\n",
        "# Variables categóricas a numéricas\n",
        "# Convertir 'Sex'a variable numérica indexada\n",
        "indexers = [\n",
        "    StringIndexer(inputCol=column, outputCol=column+\"_num\").fit(data)\n",
        "    for column in [\"Sex\"]\n",
        "]\n",
        "for indexer in indexers:\n",
        "    data = indexer.transform(data)"
      ],
      "metadata": {
        "id": "GdwbMjnQUQtJ"
      },
      "execution_count": 9,
      "outputs": []
    },
    {
      "cell_type": "code",
      "source": [
        "data.show()"
      ],
      "metadata": {
        "colab": {
          "base_uri": "https://localhost:8080/"
        },
        "id": "Og_JbcWGUhLK",
        "outputId": "ad583ec3-13d9-4603-baa0-603bd51f8f2e"
      },
      "execution_count": 10,
      "outputs": [
        {
          "output_type": "stream",
          "name": "stdout",
          "text": [
            "+-----------+--------+------+--------------------+------+----+-----+-----+----------------+-------+-----+--------+-------+\n",
            "|PassengerId|Survived|Pclass|                Name|   Sex| Age|SibSp|Parch|          Ticket|   Fare|Cabin|Embarked|Sex_num|\n",
            "+-----------+--------+------+--------------------+------+----+-----+-----+----------------+-------+-----+--------+-------+\n",
            "|          1|       0|     3|Braund, Mr. Owen ...|  male|22.0|    1|    0|       A/5 21171|   7.25| NULL|       S|    0.0|\n",
            "|          2|       1|     1|Cumings, Mrs. Joh...|female|38.0|    1|    0|        PC 17599|71.2833|  C85|       C|    1.0|\n",
            "|          3|       1|     3|Heikkinen, Miss. ...|female|26.0|    0|    0|STON/O2. 3101282|  7.925| NULL|       S|    1.0|\n",
            "|          4|       1|     1|Futrelle, Mrs. Ja...|female|35.0|    1|    0|          113803|   53.1| C123|       S|    1.0|\n",
            "|          5|       0|     3|Allen, Mr. Willia...|  male|35.0|    0|    0|          373450|   8.05| NULL|       S|    0.0|\n",
            "|          6|       0|     3|    Moran, Mr. James|  male|28.0|    0|    0|          330877| 8.4583| NULL|       Q|    0.0|\n",
            "|          7|       0|     1|McCarthy, Mr. Tim...|  male|54.0|    0|    0|           17463|51.8625|  E46|       S|    0.0|\n",
            "|          8|       0|     3|Palsson, Master. ...|  male| 2.0|    3|    1|          349909| 21.075| NULL|       S|    0.0|\n",
            "|          9|       1|     3|Johnson, Mrs. Osc...|female|27.0|    0|    2|          347742|11.1333| NULL|       S|    1.0|\n",
            "|         10|       1|     2|Nasser, Mrs. Nich...|female|14.0|    1|    0|          237736|30.0708| NULL|       C|    1.0|\n",
            "|         11|       1|     3|Sandstrom, Miss. ...|female| 4.0|    1|    1|         PP 9549|   16.7|   G6|       S|    1.0|\n",
            "|         12|       1|     1|Bonnell, Miss. El...|female|58.0|    0|    0|          113783|  26.55| C103|       S|    1.0|\n",
            "|         13|       0|     3|Saundercock, Mr. ...|  male|20.0|    0|    0|       A/5. 2151|   8.05| NULL|       S|    0.0|\n",
            "|         14|       0|     3|Andersson, Mr. An...|  male|39.0|    1|    5|          347082| 31.275| NULL|       S|    0.0|\n",
            "|         15|       0|     3|Vestrom, Miss. Hu...|female|14.0|    0|    0|          350406| 7.8542| NULL|       S|    1.0|\n",
            "|         16|       1|     2|Hewlett, Mrs. (Ma...|female|55.0|    0|    0|          248706|   16.0| NULL|       S|    1.0|\n",
            "|         17|       0|     3|Rice, Master. Eugene|  male| 2.0|    4|    1|          382652| 29.125| NULL|       Q|    0.0|\n",
            "|         18|       1|     2|Williams, Mr. Cha...|  male|28.0|    0|    0|          244373|   13.0| NULL|       S|    0.0|\n",
            "|         19|       0|     3|Vander Planke, Mr...|female|31.0|    1|    0|          345763|   18.0| NULL|       S|    1.0|\n",
            "|         20|       1|     3|Masselmani, Mrs. ...|female|28.0|    0|    0|            2649|  7.225| NULL|       C|    1.0|\n",
            "+-----------+--------+------+--------------------+------+----+-----+-----+----------------+-------+-----+--------+-------+\n",
            "only showing top 20 rows\n",
            "\n"
          ]
        }
      ]
    },
    {
      "cell_type": "code",
      "source": [
        "# Eliminar columnas no necesarias y las originales de las variables categóricas\n",
        "data = data.drop(\"Sex\", \"Embarked\", \"Name\", \"Ticket\", \"Cabin\",\"PassengerId\",\"Embarked\")"
      ],
      "metadata": {
        "id": "NMyltYX9VlQm"
      },
      "execution_count": 11,
      "outputs": []
    },
    {
      "cell_type": "code",
      "source": [
        "# Seleccionar las columnas necesarias\n",
        "data = data.select(\"Survived\", \"Pclass\", \"Sex_num\", \"Age\", \"SibSp\", \"Parch\", \"Fare\")"
      ],
      "metadata": {
        "id": "kwS4uSscVtsc"
      },
      "execution_count": 12,
      "outputs": []
    },
    {
      "cell_type": "code",
      "source": [
        "from pyspark.sql.functions import col, count, when\n",
        "\n",
        "\n",
        "def count_nulls(data):\n",
        "    # Esta expresión generará una lista de columnas con el recuento de nulos para cada una\n",
        "    exprs = [count(when(col(c).isNull(), c)).alias(c) for c in data.columns]\n",
        "    # Aplicar la agregación en todas las columnas\n",
        "    df_nulls = data.agg(*exprs)\n",
        "    return df_nulls\n",
        "\n",
        "# Ejecutar la función y mostrar los resultados\n",
        "null_counts = count_nulls(data)\n",
        "null_counts.show()"
      ],
      "metadata": {
        "colab": {
          "base_uri": "https://localhost:8080/"
        },
        "id": "WS2wqP4Ja1d0",
        "outputId": "2fe7476a-0caa-40cf-f360-4060ef8ee28e"
      },
      "execution_count": 13,
      "outputs": [
        {
          "output_type": "stream",
          "name": "stdout",
          "text": [
            "+--------+------+-------+---+-----+-----+----+\n",
            "|Survived|Pclass|Sex_num|Age|SibSp|Parch|Fare|\n",
            "+--------+------+-------+---+-----+-----+----+\n",
            "|       0|     0|      0|  0|    0|    0|   0|\n",
            "+--------+------+-------+---+-----+-----+----+\n",
            "\n"
          ]
        }
      ]
    },
    {
      "cell_type": "code",
      "source": [
        "data.printSchema()\n",
        "data.show(10)"
      ],
      "metadata": {
        "colab": {
          "base_uri": "https://localhost:8080/"
        },
        "id": "BUN96d1GV3EM",
        "outputId": "a02d8680-401e-48be-eac8-6c3c5a4996e4"
      },
      "execution_count": 14,
      "outputs": [
        {
          "output_type": "stream",
          "name": "stdout",
          "text": [
            "root\n",
            " |-- Survived: integer (nullable = true)\n",
            " |-- Pclass: integer (nullable = true)\n",
            " |-- Sex_num: double (nullable = false)\n",
            " |-- Age: double (nullable = false)\n",
            " |-- SibSp: integer (nullable = true)\n",
            " |-- Parch: integer (nullable = true)\n",
            " |-- Fare: double (nullable = true)\n",
            "\n",
            "+--------+------+-------+----+-----+-----+-------+\n",
            "|Survived|Pclass|Sex_num| Age|SibSp|Parch|   Fare|\n",
            "+--------+------+-------+----+-----+-----+-------+\n",
            "|       0|     3|    0.0|22.0|    1|    0|   7.25|\n",
            "|       1|     1|    1.0|38.0|    1|    0|71.2833|\n",
            "|       1|     3|    1.0|26.0|    0|    0|  7.925|\n",
            "|       1|     1|    1.0|35.0|    1|    0|   53.1|\n",
            "|       0|     3|    0.0|35.0|    0|    0|   8.05|\n",
            "|       0|     3|    0.0|28.0|    0|    0| 8.4583|\n",
            "|       0|     1|    0.0|54.0|    0|    0|51.8625|\n",
            "|       0|     3|    0.0| 2.0|    3|    1| 21.075|\n",
            "|       1|     3|    1.0|27.0|    0|    2|11.1333|\n",
            "|       1|     2|    1.0|14.0|    1|    0|30.0708|\n",
            "+--------+------+-------+----+-----+-----+-------+\n",
            "only showing top 10 rows\n",
            "\n"
          ]
        }
      ]
    },
    {
      "cell_type": "markdown",
      "source": [
        "##RANDOM FOREST"
      ],
      "metadata": {
        "id": "W2-M4hRKVN8K"
      }
    },
    {
      "cell_type": "code",
      "source": [
        "from pyspark.sql import SparkSession\n",
        "from pyspark.ml.classification import RandomForestClassifier\n",
        "from pyspark.ml.evaluation import MulticlassClassificationEvaluator\n",
        "from pyspark.ml.feature import VectorAssembler, StandardScaler"
      ],
      "metadata": {
        "id": "f6sdvH9aVQyi"
      },
      "execution_count": 15,
      "outputs": []
    },
    {
      "cell_type": "code",
      "source": [
        "assembler = VectorAssembler(\n",
        "    inputCols=[\"Pclass\", \"Sex_num\", \"Age\", \"SibSp\", \"Parch\", \"Fare\"],\n",
        "    outputCol=\"caracteristicas\"\n",
        ")\n",
        "# Transformar las características\n",
        "data = assembler.transform(data)\n",
        "\n",
        "# Escalador para las características\n",
        "scaler = StandardScaler(inputCol=\"caracteristicas\", outputCol=\"features_scaled\", withStd=True, withMean=False)\n",
        "\n",
        "# Ajustar el escalador a los datos y transformarlos\n",
        "scalerModel = scaler.fit(data)\n",
        "data = scalerModel.transform(data)\n",
        "\n",
        "# Dividir los datos en conjuntos de entrenamiento y prueba\n",
        "train_data, test_data = data.randomSplit([0.8, 0.2], seed=53)"
      ],
      "metadata": {
        "id": "QD6NU9ZbWwyS"
      },
      "execution_count": 17,
      "outputs": []
    },
    {
      "cell_type": "code",
      "source": [
        "# Definir el modelo de Random Forest\n",
        "rf = RandomForestClassifier(featuresCol=\"features_scaled\", labelCol=\"Survived\", numTrees=10)\n",
        "\n",
        "# Entrenar el modelo\n",
        "rfModel = rf.fit(train_data)\n"
      ],
      "metadata": {
        "id": "gAPdQyvtW7ZU"
      },
      "execution_count": 18,
      "outputs": []
    },
    {
      "cell_type": "code",
      "source": [
        "# Realizar predicciones en el conjunto de prueba\n",
        "predictions = rfModel.transform(test_data)\n",
        "\n",
        "# Evaluador para la precisión\n",
        "evaluator_precision = MulticlassClassificationEvaluator(labelCol=\"Survived\", predictionCol=\"prediction\", metricName=\"accuracy\")\n",
        "\n",
        "# Calcular la precisión en el conjunto de datos de prueba\n",
        "precision = evaluator_precision.evaluate(predictions)\n",
        "print(\"Precisión: \", precision)"
      ],
      "metadata": {
        "colab": {
          "base_uri": "https://localhost:8080/"
        },
        "id": "3ZAVuP4gW-W-",
        "outputId": "b5e46eab-4030-449e-9b61-60c568e1f716"
      },
      "execution_count": 19,
      "outputs": [
        {
          "output_type": "stream",
          "name": "stdout",
          "text": [
            "Precisión:  0.8265895953757225\n"
          ]
        }
      ]
    },
    {
      "cell_type": "markdown",
      "source": [
        "##ARBOL DE CLASIFICACION"
      ],
      "metadata": {
        "id": "ADlqU4ejir9z"
      }
    },
    {
      "cell_type": "code",
      "source": [
        "from pyspark.sql import SparkSession\n",
        "from pyspark.ml.classification import DecisionTreeClassifier\n",
        "from pyspark.ml.evaluation import MulticlassClassificationEvaluator\n",
        "from pyspark.ml.feature import VectorAssembler,StringIndexer,MinMaxScaler\n",
        "from pyspark.ml import Pipeline"
      ],
      "metadata": {
        "id": "MDsMUo2yiwh6"
      },
      "execution_count": null,
      "outputs": []
    },
    {
      "cell_type": "code",
      "source": [
        "assembler = VectorAssembler(\n",
        "    inputCols=[\"Pclass\",\"Sex_num\", \"Age\",\"SibSp\",\"Parch\", \"Fare\"],\n",
        "    outputCol=\"caracteristicas_arbol\"\n",
        ")"
      ],
      "metadata": {
        "id": "mC8cOC51kiJm"
      },
      "execution_count": null,
      "outputs": []
    },
    {
      "cell_type": "code",
      "source": [
        "scaler=MinMaxScaler(inputCol=\"caracteristicas_arbol\",outputCol=\"carcateristicas_escaladas\")\n",
        "pipeline=Pipeline(stages=[assembler,scaler])\n",
        "scalerModel=pipeline.fit(data)\n",
        "scaledData=scalerModel.transform(data)\n",
        "\n",
        "data = assembler.transform(data)\n",
        "train_data, test_data = data.randomSplit([0.8, 0.2], seed=42)"
      ],
      "metadata": {
        "id": "BG4KDDuilSCL"
      },
      "execution_count": null,
      "outputs": []
    },
    {
      "cell_type": "code",
      "source": [
        "dc = DecisionTreeClassifier(featuresCol=\"caracteristicas_arbol\", labelCol=\"Survived\")\n",
        "\n",
        "# Entrena el modelo\n",
        "dcModel = dc.fit(train_data)"
      ],
      "metadata": {
        "id": "Bg2TiWvplTVX"
      },
      "execution_count": null,
      "outputs": []
    },
    {
      "cell_type": "code",
      "source": [
        "predictions = dcModel.transform(test_data)\n",
        "\n",
        "\n",
        "evaluator_precision = MulticlassClassificationEvaluator(labelCol=\"Survived\", predictionCol=\"prediction\", metricName=\"accuracy\")\n",
        "\n",
        "# Calcular la precisión en el conjunto de datos de prueba\n",
        "precision = evaluator_precision.evaluate(predictions)\n",
        "print(\"Precisión: \", precision)"
      ],
      "metadata": {
        "colab": {
          "base_uri": "https://localhost:8080/"
        },
        "id": "wOGQaEeClahN",
        "outputId": "58a1d2ae-638a-451c-c753-2068bf3d5ff6"
      },
      "execution_count": null,
      "outputs": [
        {
          "output_type": "stream",
          "name": "stdout",
          "text": [
            "Precisión:  0.7724137931034483\n"
          ]
        }
      ]
    },
    {
      "cell_type": "code",
      "source": [
        "predictions.show()"
      ],
      "metadata": {
        "colab": {
          "base_uri": "https://localhost:8080/"
        },
        "id": "RjfzsV3_rm3H",
        "outputId": "05001e23-5c53-4a4d-9ff7-40aba4e1ce18"
      },
      "execution_count": null,
      "outputs": [
        {
          "output_type": "stream",
          "name": "stdout",
          "text": [
            "+--------+------+-------+----+-----+-----+--------+--------------------+--------------------+---------------------+-------------+--------------------+----------+\n",
            "|Survived|Pclass|Sex_num| Age|SibSp|Parch|    Fare|     caracteristicas|     features_scaled|caracteristicas_arbol|rawPrediction|         probability|prediction|\n",
            "+--------+------+-------+----+-----+-----+--------+--------------------+--------------------+---------------------+-------------+--------------------+----------+\n",
            "|       0|     1|    0.0|19.0|    3|    2|   263.0|[1.0,0.0,19.0,3.0...|[1.19607032390132...| [1.0,0.0,19.0,3.0...|  [61.0,33.0]|[0.64893617021276...|       0.0|\n",
            "|       0|     1|    0.0|24.0|    0|    1|247.5208|[1.0,0.0,24.0,0.0...|[1.19607032390132...| [1.0,0.0,24.0,0.0...|  [61.0,33.0]|[0.64893617021276...|       0.0|\n",
            "|       0|     1|    0.0|28.0|    0|    0|     0.0|(6,[0,2],[1.0,28.0])|(6,[0,2],[1.19607...| (6,[0,2],[1.0,28.0])|  [61.0,33.0]|[0.64893617021276...|       0.0|\n",
            "|       0|     1|    0.0|28.0|    0|    0| 27.7208|[1.0,0.0,28.0,0.0...|[1.19607032390132...| [1.0,0.0,28.0,0.0...|  [61.0,33.0]|[0.64893617021276...|       0.0|\n",
            "|       0|     1|    0.0|28.0|    0|    0|    42.4|[1.0,0.0,28.0,0.0...|[1.19607032390132...| [1.0,0.0,28.0,0.0...|  [61.0,33.0]|[0.64893617021276...|       0.0|\n",
            "|       0|     1|    0.0|28.0|    0|    0|221.7792|[1.0,0.0,28.0,0.0...|[1.19607032390132...| [1.0,0.0,28.0,0.0...|  [61.0,33.0]|[0.64893617021276...|       0.0|\n",
            "|       0|     1|    0.0|31.0|    0|    0| 50.4958|[1.0,0.0,31.0,0.0...|[1.19607032390132...| [1.0,0.0,31.0,0.0...|  [61.0,33.0]|[0.64893617021276...|       0.0|\n",
            "|       0|     1|    0.0|37.0|    1|    0|    53.1|[1.0,0.0,37.0,1.0...|[1.19607032390132...| [1.0,0.0,37.0,1.0...|  [61.0,33.0]|[0.64893617021276...|       0.0|\n",
            "|       0|     1|    0.0|45.0|    1|    0|  83.475|[1.0,0.0,45.0,1.0...|[1.19607032390132...| [1.0,0.0,45.0,1.0...|  [61.0,33.0]|[0.64893617021276...|       0.0|\n",
            "|       0|     1|    0.0|45.5|    0|    0|    28.5|[1.0,0.0,45.5,0.0...|[1.19607032390132...| [1.0,0.0,45.5,0.0...|  [61.0,33.0]|[0.64893617021276...|       0.0|\n",
            "|       0|     1|    0.0|46.0|    0|    0|    79.2|[1.0,0.0,46.0,0.0...|[1.19607032390132...| [1.0,0.0,46.0,0.0...|  [61.0,33.0]|[0.64893617021276...|       0.0|\n",
            "|       0|     1|    0.0|47.0|    0|    0| 25.5875|[1.0,0.0,47.0,0.0...|[1.19607032390132...| [1.0,0.0,47.0,0.0...|  [61.0,33.0]|[0.64893617021276...|       0.0|\n",
            "|       0|     1|    0.0|47.0|    0|    0|    38.5|[1.0,0.0,47.0,0.0...|[1.19607032390132...| [1.0,0.0,47.0,0.0...|  [61.0,33.0]|[0.64893617021276...|       0.0|\n",
            "|       0|     1|    0.0|50.0|    1|    0| 106.425|[1.0,0.0,50.0,1.0...|[1.19607032390132...| [1.0,0.0,50.0,1.0...|  [61.0,33.0]|[0.64893617021276...|       0.0|\n",
            "|       0|     1|    0.0|56.0|    0|    0| 30.6958|[1.0,0.0,56.0,0.0...|[1.19607032390132...| [1.0,0.0,56.0,0.0...|  [61.0,33.0]|[0.64893617021276...|       0.0|\n",
            "|       0|     1|    0.0|62.0|    0|    0|   26.55|[1.0,0.0,62.0,0.0...|[1.19607032390132...| [1.0,0.0,62.0,0.0...|  [61.0,33.0]|[0.64893617021276...|       0.0|\n",
            "|       0|     1|    1.0| 2.0|    1|    2|  151.55|[1.0,1.0,2.0,1.0,...|[1.19607032390132...| [1.0,1.0,2.0,1.0,...|   [1.0,77.0]|[0.01282051282051...|       1.0|\n",
            "|       0|     2|    0.0|24.0|    2|    0|    73.5|[2.0,0.0,24.0,2.0...|[2.39214064780264...| [2.0,0.0,24.0,2.0...|    [8.0,0.0]|           [1.0,0.0]|       0.0|\n",
            "|       0|     2|    0.0|28.0|    0|    0|     0.0|(6,[0,2],[2.0,28.0])|(6,[0,2],[2.39214...| (6,[0,2],[2.0,28.0])| [319.0,36.0]|[0.89859154929577...|       0.0|\n",
            "|       0|     2|    0.0|28.0|    0|    0|    10.5|[2.0,0.0,28.0,0.0...|[2.39214064780264...| [2.0,0.0,28.0,0.0...| [319.0,36.0]|[0.89859154929577...|       0.0|\n",
            "+--------+------+-------+----+-----+-----+--------+--------------------+--------------------+---------------------+-------------+--------------------+----------+\n",
            "only showing top 20 rows\n",
            "\n"
          ]
        }
      ]
    },
    {
      "cell_type": "markdown",
      "source": [
        "##NAIVE BAYES\n"
      ],
      "metadata": {
        "id": "7vQNanprYusK"
      }
    },
    {
      "cell_type": "markdown",
      "source": [
        "##REGRESION LOGISTICA"
      ],
      "metadata": {
        "id": "9hruEXRTXKLg"
      }
    },
    {
      "cell_type": "code",
      "source": [
        "from pyspark.sql import SparkSession\n",
        "from pyspark.ml.classification import LogisticRegression\n",
        "from pyspark.ml.evaluation import MulticlassClassificationEvaluator\n",
        "from pyspark.ml.feature import VectorAssembler, StandardScaler"
      ],
      "metadata": {
        "id": "XhIDryGiZEF3"
      },
      "execution_count": null,
      "outputs": []
    },
    {
      "cell_type": "code",
      "source": [
        "assembler = VectorAssembler(\n",
        "    inputCols=[\"Pclass\",\"Sex_num\", \"Age\",\"SibSp\",\"Parch\", \"Fare\"],\n",
        "    outputCol=\"caracteristicas\"\n",
        ")\n",
        "data = assembler.transform(data)\n",
        "\n",
        "# Escalador para las características\n",
        "scaler = StandardScaler(inputCol=\"caracteristicas\", outputCol=\"features_scaled\", withStd=True, withMean=False)\n",
        "\n",
        "# Ajustar el escalador a los datos y transformarlos\n",
        "scalerModel = scaler.fit(data)\n",
        "data = scalerModel.transform(data)\n",
        "train_data, test_data = data.randomSplit([0.8, 0.2], seed=53)"
      ],
      "metadata": {
        "id": "lcrisggeXM38"
      },
      "execution_count": null,
      "outputs": []
    },
    {
      "cell_type": "code",
      "source": [
        "lr = LogisticRegression(featuresCol=\"features_scaled\", labelCol=\"Survived\")\n",
        "\n",
        "# Entrena el modelo\n",
        "lrModel = lr.fit(train_data)\n"
      ],
      "metadata": {
        "id": "PzLLzWkUZOGS"
      },
      "execution_count": null,
      "outputs": []
    },
    {
      "cell_type": "code",
      "source": [
        "predictions = lrModel.transform(test_data)\n",
        "\n",
        "\n",
        "evaluator_precision = MulticlassClassificationEvaluator(labelCol=\"Survived\", predictionCol=\"prediction\", metricName=\"accuracy\")\n",
        "\n",
        "# Calcular la precisión en el conjunto de datos de prueba\n",
        "precision = evaluator_precision.evaluate(predictions)\n",
        "print(\"Precisión: \", precision)"
      ],
      "metadata": {
        "colab": {
          "base_uri": "https://localhost:8080/"
        },
        "id": "UORHfj2VZYuD",
        "outputId": "9dd0ad20-24ee-4eb9-cd76-8f3863c3ed8d"
      },
      "execution_count": null,
      "outputs": [
        {
          "output_type": "stream",
          "name": "stdout",
          "text": [
            "Precisión:  0.7861271676300579\n"
          ]
        }
      ]
    },
    {
      "cell_type": "code",
      "source": [
        "predictions.show()"
      ],
      "metadata": {
        "colab": {
          "base_uri": "https://localhost:8080/"
        },
        "id": "g6zONUxTZ6Kn",
        "outputId": "f68ad1d4-8bfe-4c2c-82ac-071c1ab17dc2"
      },
      "execution_count": null,
      "outputs": [
        {
          "output_type": "stream",
          "name": "stdout",
          "text": [
            "+--------+------+-------+----+-----+-----+-------+--------------------+--------------------+--------------------+--------------------+----------+\n",
            "|Survived|Pclass|Sex_num| Age|SibSp|Parch|   Fare|     caracteristicas|     features_scaled|       rawPrediction|         probability|prediction|\n",
            "+--------+------+-------+----+-----+-----+-------+--------------------+--------------------+--------------------+--------------------+----------+\n",
            "|       0|     1|    0.0|18.0|    1|    0|  108.9|[1.0,0.0,18.0,1.0...|[1.19607032390132...|[-0.4687616755495...|[0.38490938024542...|       1.0|\n",
            "|       0|     1|    0.0|21.0|    0|    1|77.2875|[1.0,0.0,21.0,0.0...|[1.19607032390132...|[-0.4287025134392...|[0.39443620190171...|       1.0|\n",
            "|       0|     1|    0.0|28.0|    0|    0|   26.0|[1.0,0.0,28.0,0.0...|[1.19607032390132...|[-0.0660690277054...|[0.48348874876454...|       1.0|\n",
            "|       0|     1|    0.0|28.0|    0|    0|   39.6|[1.0,0.0,28.0,0.0...|[1.19607032390132...|[-0.1100625011671...|[0.47251211756172...|       1.0|\n",
            "|       0|     1|    0.0|28.0|    0|    0|227.525|[1.0,0.0,28.0,0.0...|[1.19607032390132...|[-0.7179649644234...|[0.32784126895124...|       1.0|\n",
            "|       0|     1|    0.0|37.0|    0|    1|   29.7|[1.0,0.0,37.0,0.0...|[1.19607032390132...|[0.46373563104901...|[0.61389999665454...|       0.0|\n",
            "|       0|     1|    0.0|47.0|    0|    0|34.0208|[1.0,0.0,47.0,0.0...|[1.19607032390132...|[0.78495561363599...|[0.68674717808467...|       0.0|\n",
            "|       0|     1|    0.0|54.0|    0|    1|77.2875|[1.0,0.0,54.0,0.0...|[1.19607032390132...|[1.09445667057050...|[0.74922001239652...|       0.0|\n",
            "|       0|     1|    0.0|56.0|    0|    0|  26.55|[1.0,0.0,56.0,0.0...|[1.19607032390132...|[1.22452931393350...|[0.77285964219219...|       0.0|\n",
            "|       0|     1|    0.0|56.0|    0|    0|30.6958|[1.0,0.0,56.0,0.0...|[1.19607032390132...|[1.21111842111899...|[0.77049678095052...|       0.0|\n",
            "|       0|     1|    0.0|58.0|    0|    0|   29.7|[1.0,0.0,58.0,0.0...|[1.19607032390132...|[1.30665232694314...|[0.78695242986369...|       0.0|\n",
            "|       0|     1|    0.0|58.0|    0|    2|113.275|[1.0,0.0,58.0,0.0...|[1.19607032390132...|[1.28903557048439...|[0.78398390474232...|       0.0|\n",
            "|       0|     1|    0.0|61.0|    0|    0|32.3208|[1.0,0.0,61.0,0.0...|[1.19607032390132...|[1.43664354255009...|[0.80793434658570...|       0.0|\n",
            "|       0|     1|    0.0|64.0|    0|    0|   26.0|[1.0,0.0,64.0,0.0...|[1.19607032390132...|[1.59555917303240...|[0.83139680285571...|       0.0|\n",
            "|       0|     2|    0.0|16.0|    0|    0|   10.5|[2.0,0.0,16.0,0.0...|[2.39214064780264...|[0.52921737486654...|[0.62930055859014...|       0.0|\n",
            "|       0|     2|    0.0|18.0|    0|    0|   73.5|[2.0,0.0,18.0,0.0...|[2.39214064780264...|[0.41773675650254...|[0.60294154893450...|       0.0|\n",
            "|       0|     2|    0.0|27.0|    0|    0|   13.0|[2.0,0.0,27.0,0.0...|[2.39214064780264...|[1.02885006730697...|[0.73669289666650...|       0.0|\n",
            "|       0|     2|    0.0|27.0|    0|    0|   13.0|[2.0,0.0,27.0,0.0...|[2.39214064780264...|[1.02885006730697...|[0.73669289666650...|       0.0|\n",
            "|       0|     2|    0.0|28.0|    0|    0|    0.0|(6,[0,2],[2.0,28.0])|(6,[0,2],[2.39214...|[1.11705899114295...|[0.75344278209428...|       0.0|\n",
            "|       0|     2|    0.0|28.0|    0|    0|    0.0|(6,[0,2],[2.0,28.0])|(6,[0,2],[2.39214...|[1.11705899114295...|[0.75344278209428...|       0.0|\n",
            "+--------+------+-------+----+-----+-----+-------+--------------------+--------------------+--------------------+--------------------+----------+\n",
            "only showing top 20 rows\n",
            "\n"
          ]
        }
      ]
    },
    {
      "cell_type": "markdown",
      "source": [
        "##GRADIENT BOOST TREE"
      ],
      "metadata": {
        "id": "D-AwGT0su7FR"
      }
    },
    {
      "cell_type": "code",
      "source": [
        "from pyspark.sql import SparkSession\n",
        "from pyspark.ml.feature import VectorAssembler, StandardScaler\n",
        "from pyspark.ml.classification import GBTClassifier\n",
        "from pyspark.ml.evaluation import MulticlassClassificationEvaluator\n"
      ],
      "metadata": {
        "id": "Wy_F_ddnvjwU"
      },
      "execution_count": null,
      "outputs": []
    },
    {
      "cell_type": "code",
      "source": [
        "assembler = VectorAssembler(\n",
        "    inputCols=[\"Pclass\", \"Sex_num\", \"Age\", \"SibSp\", \"Parch\", \"Fare\"],\n",
        "    outputCol=\"caracteristicas_gbt\"\n",
        ")\n",
        "\n",
        "data = assembler.transform(data)\n",
        "\n",
        "scaler = StandardScaler(inputCol=\"caracteristicas_gbt\", outputCol=\"features_gbt_scaled\", withStd=True, withMean=False)\n",
        "scalerModel = scaler.fit(data)\n",
        "data = scalerModel.transform(data)\n",
        "\n",
        "train_data, test_data = data.randomSplit([0.8, 0.2], seed=53)\n",
        "\n",
        "\n"
      ],
      "metadata": {
        "id": "qk120wosvmwI"
      },
      "execution_count": null,
      "outputs": []
    },
    {
      "cell_type": "code",
      "source": [
        "# Crear el modelo Gradient-Boosted Trees\n",
        "gbt = GBTClassifier(featuresCol=\"features_gbt_scaled\", labelCol=\"Survived\", maxIter=10)\n",
        "\n",
        "# Entrenar el modelo\n",
        "gbtModel = gbt.fit(train_data)\n",
        "\n",
        "# Realizar predicciones en el conjunto de prueba\n",
        "predictions = gbtModel.transform(test_data)\n"
      ],
      "metadata": {
        "id": "1DIL7YcPv95-"
      },
      "execution_count": null,
      "outputs": []
    },
    {
      "cell_type": "code",
      "source": [
        "evaluator_precision = MulticlassClassificationEvaluator(\n",
        "    labelCol=\"Survived\", predictionCol=\"prediction\", metricName=\"accuracy\"\n",
        ")\n",
        "\n",
        "# Calcular la precisión\n",
        "precision = evaluator_precision.evaluate(predictions)\n",
        "print(\"Precisión con GBT: \", precision)\n"
      ],
      "metadata": {
        "colab": {
          "base_uri": "https://localhost:8080/"
        },
        "id": "fxsWXtJSwF9C",
        "outputId": "c0799f22-8fa0-4678-9d8a-a4258e4acee2"
      },
      "execution_count": null,
      "outputs": [
        {
          "output_type": "stream",
          "name": "stdout",
          "text": [
            "Precisión con GBT:  0.8265895953757225\n"
          ]
        }
      ]
    },
    {
      "cell_type": "code",
      "source": [
        "predictions.show()"
      ],
      "metadata": {
        "colab": {
          "base_uri": "https://localhost:8080/"
        },
        "id": "vmfNVTBUwa_T",
        "outputId": "a95865f0-0d93-4334-8643-258c2ea60484"
      },
      "execution_count": null,
      "outputs": [
        {
          "output_type": "stream",
          "name": "stdout",
          "text": [
            "+--------+------+-------+----+-----+-----+-------+--------------------+--------------------+--------------------+--------------------+----------+\n",
            "|Survived|Pclass|Sex_num| Age|SibSp|Parch|   Fare| caracteristicas_gbt| features_gbt_scaled|       rawPrediction|         probability|prediction|\n",
            "+--------+------+-------+----+-----+-----+-------+--------------------+--------------------+--------------------+--------------------+----------+\n",
            "|       0|     1|    0.0|18.0|    1|    0|  108.9|[1.0,0.0,18.0,1.0...|[1.19607032390132...|[0.33988798191713...|[0.66368869301928...|       0.0|\n",
            "|       0|     1|    0.0|21.0|    0|    1|77.2875|[1.0,0.0,21.0,0.0...|[1.19607032390132...|[0.45049995700974...|[0.71115494191261...|       0.0|\n",
            "|       0|     1|    0.0|28.0|    0|    0|   26.0|[1.0,0.0,28.0,0.0...|[1.19607032390132...|[0.97357371023401...|[0.87513526378425...|       0.0|\n",
            "|       0|     1|    0.0|28.0|    0|    0|   39.6|[1.0,0.0,28.0,0.0...|[1.19607032390132...|[0.32276741200863...|[0.65600354121159...|       0.0|\n",
            "|       0|     1|    0.0|28.0|    0|    0|227.525|[1.0,0.0,28.0,0.0...|[1.19607032390132...|[0.21465684226929...|[0.60570977073396...|       0.0|\n",
            "|       0|     1|    0.0|37.0|    0|    1|   29.7|[1.0,0.0,37.0,0.0...|[1.19607032390132...|[0.25264347767587...|[0.62370097855510...|       0.0|\n",
            "|       0|     1|    0.0|47.0|    0|    0|34.0208|[1.0,0.0,47.0,0.0...|[1.19607032390132...|[0.40688619036216...|[0.69291279266343...|       0.0|\n",
            "|       0|     1|    0.0|54.0|    0|    1|77.2875|[1.0,0.0,54.0,0.0...|[1.19607032390132...|[0.36608720677257...|[0.67528225118061...|       0.0|\n",
            "|       0|     1|    0.0|56.0|    0|    0|  26.55|[1.0,0.0,56.0,0.0...|[1.19607032390132...|[0.33331254699636...|[0.66074704988145...|       0.0|\n",
            "|       0|     1|    0.0|56.0|    0|    0|30.6958|[1.0,0.0,56.0,0.0...|[1.19607032390132...|[0.33331254699636...|[0.66074704988145...|       0.0|\n",
            "|       0|     1|    0.0|58.0|    0|    0|   29.7|[1.0,0.0,58.0,0.0...|[1.19607032390132...|[0.86986903748079...|[0.85065379306615...|       0.0|\n",
            "|       0|     1|    0.0|58.0|    0|    2|113.275|[1.0,0.0,58.0,0.0...|[1.19607032390132...|[0.89333560714507...|[0.85651867257514...|       0.0|\n",
            "|       0|     1|    0.0|61.0|    0|    0|32.3208|[1.0,0.0,61.0,0.0...|[1.19607032390132...|[0.86986903748079...|[0.85065379306615...|       0.0|\n",
            "|       0|     1|    0.0|64.0|    0|    0|   26.0|[1.0,0.0,64.0,0.0...|[1.19607032390132...|[1.59079927003893...|[0.96013589512530...|       0.0|\n",
            "|       0|     2|    0.0|16.0|    0|    0|   10.5|[2.0,0.0,16.0,0.0...|[2.39214064780264...|[0.77679555788340...|[0.82543179548251...|       0.0|\n",
            "|       0|     2|    0.0|18.0|    0|    0|   73.5|[2.0,0.0,18.0,0.0...|[2.39214064780264...|[-0.1273784574017...|[0.43665300865356...|       1.0|\n",
            "|       0|     2|    0.0|27.0|    0|    0|   13.0|[2.0,0.0,27.0,0.0...|[2.39214064780264...|[0.67575711111072...|[0.79437707474649...|       0.0|\n",
            "|       0|     2|    0.0|27.0|    0|    0|   13.0|[2.0,0.0,27.0,0.0...|[2.39214064780264...|[0.67575711111072...|[0.79437707474649...|       0.0|\n",
            "|       0|     2|    0.0|28.0|    0|    0|    0.0|(6,[0,2],[2.0,28.0])|(6,[0,2],[2.39214...|[0.98492508262758...|[0.87759501853931...|       0.0|\n",
            "|       0|     2|    0.0|28.0|    0|    0|    0.0|(6,[0,2],[2.0,28.0])|(6,[0,2],[2.39214...|[0.98492508262758...|[0.87759501853931...|       0.0|\n",
            "+--------+------+-------+----+-----+-----+-------+--------------------+--------------------+--------------------+--------------------+----------+\n",
            "only showing top 20 rows\n",
            "\n"
          ]
        }
      ]
    },
    {
      "cell_type": "code",
      "source": [],
      "metadata": {
        "id": "YwJAR05wug9E"
      },
      "execution_count": null,
      "outputs": []
    }
  ]
}